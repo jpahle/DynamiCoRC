{
  "cells": [
    {
      "cell_type": "markdown",
      "metadata": {
        "id": "AHI-Y-V1SpX5"
      },
      "source": [
        "Authors: Jonas Förster, Johanna Daas and Jürgen Pahle"
      ]
    },
    {
      "cell_type": "markdown",
      "metadata": {
        "id": "6LS1c-ns3pd-"
      },
      "source": [
        "Why are oscillations so fascinating for science?\n",
        "Here, you will find an answer to that question (hopefully), as well as learn how to code with **CoRC**. \n",
        "\n",
        "This is a teaching document.\n",
        "Whenever there is a code chunk, you can run it.\n",
        "But (as you will quickly see), it will not be completed.\n",
        "Some of the code, you will have to put in by yourself to get to the next result.\n",
        "But don't worry: We will guide you through everything.\n",
        "Don't be shy to be creative with your coding - it is about all learning by doing.\n",
        "\n",
        "If you need help, click on the \"Hint\" tab.\n",
        "There we will give you some pointers on where to look, as well as some extra code to guide you in the right direction.\n",
        "But it is always a good idea to use Google as well if you don't know how a certain function works.\n",
        "You can also use the intrinsic help-function of **R**:\n",
        "The `?` function gives you the documentation for that function.\n",
        "If you forgot the specific name, you can also use the `??` function for fuzzy search.\n",
        "\n",
        "If you are completely lost, you can take a look at the \"Solution\" tab.\n",
        "Here we will give you the completed code with explanations on why it is working.\n",
        "Of course you can use the Solution tab to check if your result is correct.\n",
        "But don't worry, if your code does not look like ours.\n",
        "If it achieves the same result, it is just as valid.\n",
        "But it can't hurt to take a look at where your solution is different from ours and to try and understand, why we did what we did.\n",
        "\n",
        "We assume that you already know how to work with **CoRC** a bit or have gone through our [examples](https://jpahle.github.io/CoRC/index.html).\n",
        "Also, it helps if you already have some experience with ggplot, but that is not a necessity."
      ]
    },
    {
      "cell_type": "markdown",
      "metadata": {
        "id": "h6WrcJfC3swz"
      },
      "source": [
        "---\n",
        "### Working with this notebook\n",
        "\n",
        "We will have several blocks within each question. If you need to code, you can do so inside the block that says \"Your code here\".\n",
        "\n",
        "To see the help or the solution, you have to click on the \"Hint\" or \"Solution\" tab.\n"
      ]
    },
    {
      "cell_type": "code",
      "execution_count": null,
      "metadata": {
        "id": "7Q0VuJu-4ETN"
      },
      "outputs": [],
      "source": [
        "# Your code here\n",
        "\n",
        "# When you want to code, you can put your code here"
      ]
    },
    {
      "cell_type": "markdown",
      "metadata": {
        "id": "qu5trVjx8J2O",
        "jp-MarkdownHeadingCollapsed": true,
        "tags": []
      },
      "source": [
        "#### Hint"
      ]
    },
    {
      "cell_type": "markdown",
      "metadata": {
        "id": "zSC-JbdQ8MMH"
      },
      "source": [
        "You successfully opened the \"Hint\" tab.\n",
        "They should point you in the right direction."
      ]
    },
    {
      "cell_type": "markdown",
      "metadata": {
        "id": "5G0OP0qM8VA9",
        "jp-MarkdownHeadingCollapsed": true,
        "tags": []
      },
      "source": [
        "#### Solution"
      ]
    },
    {
      "cell_type": "markdown",
      "metadata": {
        "id": "8qcHMzpO8Xan"
      },
      "source": [
        "This is our Solution tab.\n",
        "If you clicked on it and this message is showing, everything is working as it should.\n",
        "Now, on with the coding!"
      ]
    },
    {
      "cell_type": "markdown",
      "metadata": {
        "id": "PAdAfJQp41J9"
      },
      "source": [
        "---\n",
        "### Setup"
      ]
    },
    {
      "cell_type": "markdown",
      "metadata": {
        "id": "yvgoXtst8LPb"
      },
      "source": [
        "Google Colab is a Jupyter Notebook hosting service where you can write your code and it will be evaluated.\n",
        "It is manly used for Python, so we need to set up our R environment.\n",
        "This can be acchived by changing the \"Runtime\" settings (\"Runtime\" -> \"change runtime type\": R)\n",
        "\n",
        "We need to install CoRC (this might take some time) and load it with the library() function.\n",
        "It is good practice to set up all libraries at the beginning of your document and not at the point where you first need them.\n",
        "This avoids confusion.\n",
        "So we will also need to tell **R** about the other packages.\n",
        "We will be using: **tidyr** and **dplyr** for data wrangling and **ggplot2** and **plotly** for plotting.\n",
        "\n",
        "To use Colab, type your code in the Codebox below and click the arrow on the left to run it.\n",
        "The package installation on Colab typically takes a few minutes."
      ]
    },
    {
      "cell_type": "code",
      "execution_count": null,
      "metadata": {
        "id": "AZkK-J685X5Y"
      },
      "outputs": [],
      "source": [
        "# Install CoRC\n",
        "install.packages(\"remotes\")\n",
        "message(\"==== Installing CoRC\")\n",
        "remotes::install_github(\"jpahle/CoRC\")\n",
        "\n",
        "# Install further packages\n",
        "message(\"==== Installing dplyr\")\n",
        "install.packages(\"dplyr\")\n",
        "message(\"==== Installing tidyr\")\n",
        "install.packages(\"tidyr\")\n",
        "message(\"==== Installing ggplot2\")\n",
        "install.packages(\"ggplot2\")\n",
        "message(\"==== Installing plotly\")\n",
        "install.packages(\"plotly\")\n",
        "\n",
        "# to run this block, click on the arrow on the left"
      ]
    },
    {
      "cell_type": "code",
      "execution_count": null,
      "metadata": {
        "id": "YzVGun-E5lxY"
      },
      "outputs": [],
      "source": [
        "# Your code here\n",
        "# Load dplyr, tidyr, ggplot2, plotly and CoRC\n"
      ]
    },
    {
      "cell_type": "markdown",
      "metadata": {
        "id": "Ho2UZ-rL5z0b",
        "jp-MarkdownHeadingCollapsed": true,
        "tags": []
      },
      "source": [
        "#### Hint"
      ]
    },
    {
      "cell_type": "markdown",
      "metadata": {
        "id": "Zu9oOfYX6oxz"
      },
      "source": [
        "You need to call the `library()` function with the package you want to call as an *argument*.\n",
        "\n",
        "You also need to make sure to have the package installed before calling it with the library function.\n",
        "If you are unsure if you have the required packages installed, you can check by using `find.package()`.\n",
        "If you have the package installed, it will tell you where it is installed."
      ]
    },
    {
      "cell_type": "markdown",
      "metadata": {
        "id": "xZmIGOrY66pm",
        "jp-MarkdownHeadingCollapsed": true,
        "tags": []
      },
      "source": [
        "#### Solution"
      ]
    },
    {
      "cell_type": "markdown",
      "metadata": {
        "id": "J7o7pRG37HTW"
      },
      "source": [
        "We want to load all of these packages with the `library()` function:"
      ]
    },
    {
      "cell_type": "code",
      "execution_count": null,
      "metadata": {
        "id": "VowlI-J57haN"
      },
      "outputs": [],
      "source": [
        "library(dplyr)\n",
        "library(tidyr)\n",
        "library(ggplot2)\n",
        "library(plotly)\n",
        "library(CoRC)"
      ]
    },
    {
      "cell_type": "markdown",
      "metadata": {
        "id": "GEEi4ZH07nWn"
      },
      "source": [
        "And done! We have set up our worksheet :)"
      ]
    },
    {
      "cell_type": "markdown",
      "metadata": {
        "id": "j0JEEwCk7yvw"
      },
      "source": [
        "---\n",
        "## Loading a model"
      ]
    },
    {
      "cell_type": "markdown",
      "metadata": {
        "id": "XBQtc-CF8dDA"
      },
      "source": [
        "The first thing to do is to load a model we can work with.\n",
        "\n",
        "This implementation is an example from the [Condor-Copasi paper](https://doi.org/10.1186/1752-0509-6-91)[^1]!\n",
        "You can find the model here:"
      ]
    },
    {
      "cell_type": "code",
      "execution_count": null,
      "metadata": {
        "id": "2QlC7M_c8lZ4"
      },
      "outputs": [],
      "source": [
        "loadModel(\"https://raw.githubusercontent.com/copasi/condor-copasi/master/examples/stochastic_test.cps\")"
      ]
    },
    {
      "cell_type": "markdown",
      "metadata": {
        "id": "UnPROH8ZSpYF"
      },
      "source": [
        "if the above does not work, try"
      ]
    },
    {
      "cell_type": "code",
      "execution_count": null,
      "metadata": {
        "id": "GNigNCWw8r9M"
      },
      "outputs": [],
      "source": [
        "# loadModel(\"https://raw.githubusercontent.com/jpahle/DynamiCoRC/main/models/stochastic_test.cps\")"
      ]
    },
    {
      "cell_type": "markdown",
      "metadata": {
        "id": "olzVjBvG80pQ"
      },
      "source": [
        "Make yourself familiar with the model and take a look at the species and the reactions."
      ]
    },
    {
      "cell_type": "code",
      "execution_count": null,
      "metadata": {
        "id": "wiHTlpfv88yQ"
      },
      "outputs": [],
      "source": [
        "# Your code here\n",
        "\n",
        "# species\n",
        "\n",
        "\n",
        "# reactions\n",
        "\n"
      ]
    },
    {
      "cell_type": "markdown",
      "metadata": {
        "id": "w8hWw7NJ9CTy",
        "jp-MarkdownHeadingCollapsed": true,
        "tags": []
      },
      "source": [
        "#### Hint"
      ]
    },
    {
      "cell_type": "markdown",
      "metadata": {
        "id": "_kkE04pf9FXm"
      },
      "source": [
        "To inspect an element with **CoRC** you use the *get* family of functions."
      ]
    },
    {
      "cell_type": "markdown",
      "metadata": {
        "id": "eZnuzDSS9IYh",
        "jp-MarkdownHeadingCollapsed": true,
        "tags": []
      },
      "source": [
        "#### Solution"
      ]
    },
    {
      "cell_type": "markdown",
      "metadata": {
        "id": "hUOMUu039MP2"
      },
      "source": [
        "We want to look at the species and the reactions.\n",
        "To look at the species we run:"
      ]
    },
    {
      "cell_type": "code",
      "execution_count": null,
      "metadata": {
        "id": "5Z6O3qd_9SNd"
      },
      "outputs": [],
      "source": [
        "getSpecies()"
      ]
    },
    {
      "cell_type": "markdown",
      "metadata": {
        "id": "fieEDCUI9VmX"
      },
      "source": [
        "and to look at the reactions"
      ]
    },
    {
      "cell_type": "code",
      "execution_count": null,
      "metadata": {
        "id": "yKCXZXoW9YWh"
      },
      "outputs": [],
      "source": [
        "getReactions()"
      ]
    },
    {
      "cell_type": "markdown",
      "metadata": {
        "id": "VfJm46Xt9eHh"
      },
      "source": [
        "---\n",
        "## Visualizing species"
      ]
    },
    {
      "cell_type": "markdown",
      "metadata": {
        "id": "c042BM4p9k7N"
      },
      "source": [
        "### a)\n",
        "\n",
        "We want to show how species *a* behaves over time.\n",
        "For this, we first have to run a time course."
      ]
    },
    {
      "cell_type": "code",
      "execution_count": null,
      "metadata": {
        "id": "slw6bJ0J9tUr"
      },
      "outputs": [],
      "source": [
        "timecourse <- runTimeCourse()$result\n",
        "\n",
        "timecourse"
      ]
    },
    {
      "cell_type": "markdown",
      "metadata": {
        "id": "HSX03f5091kF"
      },
      "source": [
        "Fill in the missing code to visualize species *a*!"
      ]
    },
    {
      "cell_type": "code",
      "execution_count": null,
      "metadata": {
        "id": "8gAnDrQ199UA"
      },
      "outputs": [],
      "source": [
        "# Your code here\n",
        "ggplot(data = ) +\n",
        "  geom_line(aes(x = , y = ))"
      ]
    },
    {
      "cell_type": "markdown",
      "metadata": {
        "id": "31Ze0aLS-FMm",
        "jp-MarkdownHeadingCollapsed": true,
        "tags": []
      },
      "source": [
        "#### Hint"
      ]
    },
    {
      "cell_type": "markdown",
      "metadata": {
        "id": "Y-XyBD71SpYI"
      },
      "source": [
        "The visualization uses the package ggplot2.\n",
        "If you are unfamiliar with that, you can look up some documentation about it on the [ggplot2 website](https://ggplot2.tidyverse.org/index.html).\n",
        "\n",
        "You have to think about what is missing here.\n",
        "\n",
        "There are some equal signs that only have one side filled out.\n",
        "\n",
        "`data`, `x`, and `y` specify what we want to plot."
      ]
    },
    {
      "cell_type": "markdown",
      "metadata": {
        "id": "dQm3GKGt-5fc",
        "jp-MarkdownHeadingCollapsed": true,
        "tags": []
      },
      "source": [
        "#### Solution"
      ]
    },
    {
      "cell_type": "markdown",
      "metadata": {
        "id": "xBd5CJsASpYI"
      },
      "source": [
        "`data` specifies the data frame ggplot draws its data from.\n",
        "We have created a timecourse table that we want to plot, so this is our `data`.\n",
        "\n",
        "`x` is the x-axis of our plot (the time) and `y` the y-axis (concentration of a).\n",
        "We find both in our data frame that we provided with `data`.\n",
        "\n",
        "We fill this into our code."
      ]
    },
    {
      "cell_type": "code",
      "execution_count": null,
      "metadata": {
        "id": "EQUH6Pzi_QfH"
      },
      "outputs": [],
      "source": [
        "ggplot(data = timecourse) +\n",
        "  geom_line(aes(x = Time, y = a))"
      ]
    },
    {
      "cell_type": "markdown",
      "metadata": {
        "id": "K8BdVhuC_YNM"
      },
      "source": [
        "### b)\n",
        "\n",
        "Now, can you do the same for *b* and *c*?"
      ]
    },
    {
      "cell_type": "code",
      "execution_count": null,
      "metadata": {
        "id": "axS3kCjR_rC_"
      },
      "outputs": [],
      "source": [
        "# Your code here\n"
      ]
    },
    {
      "cell_type": "markdown",
      "metadata": {
        "id": "0Isfpb5I_u3l",
        "jp-MarkdownHeadingCollapsed": true,
        "tags": []
      },
      "source": [
        "#### Hint"
      ]
    },
    {
      "cell_type": "markdown",
      "metadata": {
        "id": "rF671KWi_wxv"
      },
      "source": [
        "Take a look at the code for visualizing *a* and think about what is the same and what is different for *b* and *c*."
      ]
    },
    {
      "cell_type": "markdown",
      "metadata": {
        "id": "9v0eJGs9_0Ug",
        "jp-MarkdownHeadingCollapsed": true,
        "tags": []
      },
      "source": [
        "#### Solution"
      ]
    },
    {
      "cell_type": "markdown",
      "metadata": {
        "id": "Tivkz9Nv_17h"
      },
      "source": [
        "What we have to change about the code form above is the part telling ggplot what we want to have on our y-axis.\n",
        "In the last plot, we wanted a there and now we want *b* or *c*.\n",
        "\n",
        "For *b*, this will look like this:"
      ]
    },
    {
      "cell_type": "code",
      "execution_count": null,
      "metadata": {
        "id": "sm2c8gqQ_6qZ"
      },
      "outputs": [],
      "source": [
        "ggplot(data = timecourse) +\n",
        "  geom_line(aes(x = Time, y = b))"
      ]
    },
    {
      "cell_type": "markdown",
      "metadata": {
        "id": "bhKX_3Gj_lHH"
      },
      "source": [
        "It is also nice to put all species in one plot.\n",
        "To see which species are which, we will also color the lines.\n",
        "We can tell ggplot implicitly to color *a* different than *b* by calling the color `\"a\"` and `\"b\"`.\n",
        "Of course you can also explicitly tell which color to use by saying `color = \"red\"` (after the `aes()` command) for example."
      ]
    },
    {
      "cell_type": "code",
      "execution_count": null,
      "metadata": {
        "id": "UZ9kqWIQAO_i"
      },
      "outputs": [],
      "source": [
        "ggplot(data = timecourse) +\n",
        "  geom_line(aes(x = Time, y = a, color = \"a\")) +\n",
        "  geom_line(aes(x = Time, y = b, color = \"b\")) +\n",
        "  geom_line(aes(x = Time, y = c, color = \"c\"))"
      ]
    },
    {
      "cell_type": "markdown",
      "metadata": {
        "id": "38483LIDAU3d"
      },
      "source": [
        "---\n",
        "## Oscillation"
      ]
    },
    {
      "cell_type": "markdown",
      "metadata": {
        "id": "m_QOUwd2Adc6"
      },
      "source": [
        "Now, the question presents itself: How and why does this model oscillate? And why does it matter? \n",
        "\n",
        "To answer the last question first, oscillators are fascinating because a lot of fascinating signalling pathways in biology oscillate.\n",
        "You can think about why that might have some sort of evolutionary advantage.\n",
        "What is in our environment that changes over time in an oscillating way?\n",
        "\n",
        "The first thing that might come to mind is our day-and-night-cycle.\n",
        "And indeed, we find oscillating signalling pathways here.\n",
        "Even without external stimuli these oscillation prevail.\n",
        "For example, one of biologists' favorite pet, the fruit fly *Drosophila melanogaster* has the proteins PER (short for *period*) and TIM (short for *timeless*) that act as their \"clock\" (Tyson, 1999)[^2].\n",
        "\n",
        "The fist question is a bit harder to answer.\n",
        "\n",
        "Take a look at this oscillating model below:"
      ]
    },
    {
      "cell_type": "code",
      "execution_count": null,
      "metadata": {
        "cellView": "form",
        "id": "uLnU8Bd_AwN0",
        "tags": []
      },
      "outputs": [],
      "source": [
        "#@title Predator Prey Model\n",
        "invisible(newModel())\n",
        "invisible(newReaction(\"Cats -> \"))\n",
        "invisible(newReaction(\"Mice -> \"))\n",
        "invisible(newReaction(\"Mice -> 2 * Mice\"))\n",
        "invisible(newReaction(\"Cats + Mice -> 2 * Cats\"))\n",
        "\n",
        "setParameters(parameter(), value = c(0.05, 0.05, 0.1, 0.1))\n",
        "setCompartments(\"compartment\", initial_size = 3e-22)\n",
        "setSpecies(c(\"Cats\", \"Mice\"), initial_number = c(180, 180))\n",
        "\n",
        "runTC(duration = 1000, dt = 0.1)$result_number %>%\n",
        "  pivot_longer(-Time, names_to = \"Species\", values_to = \"Count\") %>%\n",
        "  ggplot() +\n",
        "  geom_line(aes(x = Time, y = Count, color = Species))"
      ]
    },
    {
      "cell_type": "markdown",
      "metadata": {
        "id": "8paxcYxUA4rc"
      },
      "source": [
        "This is a representation of a so called predator-prey model from Lotka-Volterra [^3] [^4].\n",
        "We will build the model in the following tasks."
      ]
    },
    {
      "cell_type": "markdown",
      "metadata": {
        "id": "Gs5cd3mAA9HB"
      },
      "source": [
        "---\n",
        "### Species"
      ]
    },
    {
      "cell_type": "markdown",
      "metadata": {
        "id": "auy4A4sABCxg"
      },
      "source": [
        "We call the elements in our model \"species\".\n",
        "Here, this is especially appropriate.\n",
        "We will have two species, \"Cats\" and \"Mice\". \n",
        "\n",
        "We will first have to create a new model and then our two species."
      ]
    },
    {
      "cell_type": "code",
      "execution_count": null,
      "metadata": {
        "id": "797_LIYcBE6g"
      },
      "outputs": [],
      "source": [
        "# Your code here\n"
      ]
    },
    {
      "cell_type": "markdown",
      "metadata": {
        "id": "2pzJIzhYBHrY",
        "jp-MarkdownHeadingCollapsed": true,
        "tags": []
      },
      "source": [
        "#### Hint"
      ]
    },
    {
      "cell_type": "markdown",
      "metadata": {
        "id": "izJflw9MBJBQ"
      },
      "source": [
        "To create something new, we use the *new* family of functions.\n",
        "Just try it, your editor should autofill your functions, so you might find what you need that way."
      ]
    },
    {
      "cell_type": "markdown",
      "metadata": {
        "id": "JBX9o_MpBO9L",
        "jp-MarkdownHeadingCollapsed": true,
        "tags": []
      },
      "source": [
        "#### Solution"
      ]
    },
    {
      "cell_type": "code",
      "execution_count": null,
      "metadata": {
        "id": "VZMpSeVwBXfD"
      },
      "outputs": [],
      "source": [
        "# First, make a new model\n",
        "newModel()\n",
        "\n",
        "# Then two new species\n",
        "newSpecies(\"Cats\")\n",
        "newSpecies(\"Mice\")"
      ]
    },
    {
      "cell_type": "markdown",
      "metadata": {
        "id": "vuUNmspwBcZX"
      },
      "source": [
        "---\n",
        "### Reactions"
      ]
    },
    {
      "cell_type": "markdown",
      "metadata": {
        "id": "Y3xDI7YRBiW9"
      },
      "source": [
        "We will want to create 4 reactions in our model:\n",
        "\n",
        "1. Cats multiplying\n",
        "2. Mice multiplying\n",
        "3. Cats dying \n",
        "4. Mice dying\n",
        "\n",
        "Remember, Cats need Mice to multiply!"
      ]
    },
    {
      "cell_type": "code",
      "execution_count": null,
      "metadata": {
        "id": "OFzsXHgGBoF3"
      },
      "outputs": [],
      "source": [
        "# Your code here\n",
        "\n",
        "newReaction()"
      ]
    },
    {
      "cell_type": "markdown",
      "metadata": {
        "id": "8FF8p9RnBs3L",
        "jp-MarkdownHeadingCollapsed": true,
        "tags": []
      },
      "source": [
        "#### Hint"
      ]
    },
    {
      "cell_type": "markdown",
      "metadata": {
        "id": "7jHGp0BcBtrF"
      },
      "source": [
        "We want to create a reaction for breeding and one for dying.\n",
        "For mice this might look like this:"
      ]
    },
    {
      "cell_type": "code",
      "execution_count": null,
      "metadata": {
        "id": "8b1FCTqRB0Dg"
      },
      "outputs": [],
      "source": [
        "# Mice being born:\n",
        "newReaction(\"Mice -> 2 * Mice\")\n",
        "\n",
        "# Mice dying:\n",
        "newReaction(\"Mice ->\")"
      ]
    },
    {
      "cell_type": "markdown",
      "metadata": {
        "id": "Ube6gkuoB6Sm"
      },
      "source": [
        "Try it yourself for the Cats.\n",
        "It will look similar, but remember, Cats need to eat! "
      ]
    },
    {
      "cell_type": "markdown",
      "metadata": {
        "id": "LJ9a0hYQCDEZ",
        "jp-MarkdownHeadingCollapsed": true,
        "tags": []
      },
      "source": [
        "#### Solution"
      ]
    },
    {
      "cell_type": "markdown",
      "metadata": {
        "id": "EDkT9FmMCQo-"
      },
      "source": [
        "When creating a reaction, we need to use the `newReaction()` function.\n",
        "\n",
        "For the \"dying\"-functions, we tell **CoRC** that there was something there and then it isn't there anymore:"
      ]
    },
    {
      "cell_type": "code",
      "execution_count": null,
      "metadata": {
        "id": "hQm5vWqJCVhI"
      },
      "outputs": [],
      "source": [
        "# Cats dying\n",
        "newReaction(\"Cats -> \")\n",
        "# Mice dying\n",
        "newReaction(\"Mice -> \")"
      ]
    },
    {
      "cell_type": "markdown",
      "metadata": {
        "id": "fcsVxiAzCihd"
      },
      "source": [
        "For more mice we need mice in the first place, so a similar \" -> Mice\" won't work, even if this is possible in **CoRC**.\n",
        "This would be the case if we have a constant migration of mice into our space.\n",
        "Instead we will multiply mice and cats, while cats also need to eat mice in order to multiply:"
      ]
    },
    {
      "cell_type": "code",
      "execution_count": null,
      "metadata": {
        "id": "FeZaXGQrCkHc"
      },
      "outputs": [],
      "source": [
        "# Mice multiply\n",
        "newReaction(\"Mice -> 2 * Mice\")\n",
        "\n",
        "# Cats eat Mice to multiply\n",
        "newReaction(\"Cats + Mice -> 2 * Cats\")"
      ]
    },
    {
      "cell_type": "markdown",
      "metadata": {
        "id": "VjJl0IQ4CrQG"
      },
      "source": [
        "Because we are working in the abstract we can say that one mouse can create two mice, even if that doesn't model reality very faithfully."
      ]
    },
    {
      "cell_type": "markdown",
      "metadata": {
        "id": "y-_MNwuNC5TC"
      },
      "source": [
        "---\n",
        "### Scale of the model"
      ]
    },
    {
      "cell_type": "markdown",
      "metadata": {
        "id": "-0Kn6lv7C-xP"
      },
      "source": [
        "Take a look at our model now:"
      ]
    },
    {
      "cell_type": "code",
      "execution_count": null,
      "metadata": {
        "cellView": "form",
        "id": "HA_1XJirDFSC",
        "tags": []
      },
      "outputs": [],
      "source": [
        "#@title Initial Model\n",
        "runTC(duration = 1000)$result_number %>%\n",
        "  pivot_longer(-Time, names_to = \"Species\", values_to = \"Count\") %>%\n",
        "  ggplot() +\n",
        "  geom_line(aes(x = Time, y = Count, color = Species))"
      ]
    },
    {
      "cell_type": "markdown",
      "metadata": {
        "id": "w3MsSyd9DSec"
      },
      "source": [
        "We see that it does not yet behave in a way we want it to.\n",
        "This is because we still need to take a look at the parameters of our model.\n",
        "\n",
        "Most obviously, we can see that the model is calculating the numbers of cats and mice on a massive scale to the power of 23.\n",
        "This is because COPASI by default is set to work on a molecular scale, where particle numbers are usually given in moles and as such scaled by the *Avogradro constant*.\n",
        "Here we would like to work on a much smaller scale and we can use `setCompartments` to help us achieve that.\n",
        "The argument `preserve_concentrations` set to `TRUE` will cause it to scale down the particle numbers."
      ]
    },
    {
      "cell_type": "code",
      "execution_count": null,
      "metadata": {
        "id": "TSv-UCPgDorv"
      },
      "outputs": [],
      "source": [
        "setCompartments(\"compartment\", initial_size = 3e-21, preserve_concentrations = TRUE)"
      ]
    },
    {
      "cell_type": "code",
      "execution_count": null,
      "metadata": {
        "cellView": "form",
        "id": "Mru2_hvvSpYN"
      },
      "outputs": [],
      "source": [
        "#@title Scaled Model\n",
        "runTC(duration = 1000)$result_number %>%\n",
        "  pivot_longer(-Time, names_to = \"Species\", values_to = \"Count\") %>%\n",
        "  ggplot() +\n",
        "  geom_line(aes(x = Time, y = Count, color = Species))"
      ]
    },
    {
      "cell_type": "markdown",
      "metadata": {
        "id": "qAyL6Zq9Drwb"
      },
      "source": [
        "We can take a look at our *species* after this change:"
      ]
    },
    {
      "cell_type": "code",
      "execution_count": null,
      "metadata": {
        "id": "LuLso5P8SpYN"
      },
      "outputs": [],
      "source": [
        "getSpecies()"
      ]
    },
    {
      "cell_type": "markdown",
      "metadata": {
        "id": "DNzAzMq9SpYN"
      },
      "source": [
        "In the `initial_number` column we see an equally odd number for both species.\n",
        "Lets fine tune it with a *set* command.\n",
        "We can do this one by one like this:"
      ]
    },
    {
      "cell_type": "code",
      "execution_count": null,
      "metadata": {
        "id": "WOLrNZHLDwLH"
      },
      "outputs": [],
      "source": [
        "setSpecies(key = \"Cats\", initial_number = 150)\n",
        "setSpecies(key = \"Mice\", initial_number = 300)"
      ]
    },
    {
      "cell_type": "markdown",
      "metadata": {
        "id": "r4EjUKiOEKE9"
      },
      "source": [
        "The scale of our model is now much better."
      ]
    },
    {
      "cell_type": "code",
      "execution_count": null,
      "metadata": {
        "cellView": "form",
        "id": "qR857fQJSpYN"
      },
      "outputs": [],
      "source": [
        "#@title Finished Model\n",
        "runTC(duration = 1000)$result_number %>%\n",
        "  pivot_longer(-Time, names_to = \"Species\", values_to = \"Count\") %>%\n",
        "  ggplot() +\n",
        "  geom_line(aes(x = Time, y = Count, color = Species))"
      ]
    },
    {
      "cell_type": "markdown",
      "metadata": {
        "id": "MshONqw3SpYN"
      },
      "source": [
        "---\n",
        "### Parameters of the model"
      ]
    },
    {
      "cell_type": "markdown",
      "metadata": {
        "id": "zcv2KS-ASpYO"
      },
      "source": [
        "We have to do something siilar for our parameters to achieve the correct behaviour."
      ]
    },
    {
      "cell_type": "code",
      "execution_count": null,
      "metadata": {
        "id": "B5Bd9_QrENb4"
      },
      "outputs": [],
      "source": [
        "# Your code here\n",
        "# Take a look at and change the parameters\n"
      ]
    },
    {
      "cell_type": "markdown",
      "metadata": {
        "id": "O1eMIGiAET3Y",
        "jp-MarkdownHeadingCollapsed": true,
        "tags": []
      },
      "source": [
        "#### Hint"
      ]
    },
    {
      "cell_type": "markdown",
      "metadata": {
        "id": "gNwuBAGyEVdh"
      },
      "source": [
        "First, we need to look at our parameters.\n",
        "Try doing that in a similar fashion to how we looked at the species.\n",
        "The setting of the parameters is also similar to how we set our species.\n",
        "\n",
        "To decide what values to use, think about how fast reactions should be compared to the others."
      ]
    },
    {
      "cell_type": "markdown",
      "metadata": {
        "id": "OlRhBpyCEaDT",
        "jp-MarkdownHeadingCollapsed": true,
        "tags": []
      },
      "source": [
        "#### Solution"
      ]
    },
    {
      "cell_type": "markdown",
      "metadata": {
        "id": "xp0Qqv2dEcjZ"
      },
      "source": [
        "First, let us take a look at our parameters."
      ]
    },
    {
      "cell_type": "code",
      "execution_count": null,
      "metadata": {
        "id": "9UGJru3CEhHi"
      },
      "outputs": [],
      "source": [
        "getParameters()"
      ]
    },
    {
      "cell_type": "markdown",
      "metadata": {
        "id": "ew24SAx7Eku3"
      },
      "source": [
        "We can see that all parameters have the same value.\n",
        "This is an initial default and does not seem to permit the model to oscillate.\n",
        "We can fix this by manually setting sensible parameter values. \n",
        "To achieve this we are able to use a similar set of functions as we used for the model species.\n",
        "\n",
        "For the `key` argument in the `setParameters()` function we this time list all the parameters in order to specify the new values in one command."
      ]
    },
    {
      "cell_type": "code",
      "execution_count": null,
      "metadata": {
        "id": "HkE3mhS6Epuf"
      },
      "outputs": [],
      "source": [
        "setParameters(\n",
        "  key = c(\"(Cats ->).k1\", \"(Mice ->).k1\", \"(Mice -> 2 * Mice).k1\", \"(Cats + Mice -> 2 * Cats).k1\"),\n",
        "  value = c(0.05, 0.05, 0.1, 0.1)\n",
        ")"
      ]
    },
    {
      "cell_type": "markdown",
      "metadata": {
        "id": "whRdvhzhEwJN"
      },
      "source": [
        "---\n",
        "#### Plotting it!"
      ]
    },
    {
      "cell_type": "markdown",
      "metadata": {
        "id": "JYhaWj5UE5IU"
      },
      "source": [
        "We can now again take a look at how our model behaves.\n",
        "Try making the plot yourself."
      ]
    },
    {
      "cell_type": "code",
      "execution_count": null,
      "metadata": {
        "id": "rnxZdN3ZE8Qn"
      },
      "outputs": [],
      "source": [
        "# Your code here\n",
        "# Make a plot\n"
      ]
    },
    {
      "cell_type": "markdown",
      "metadata": {
        "id": "PWHfR0WsFCQB",
        "jp-MarkdownHeadingCollapsed": true,
        "tags": []
      },
      "source": [
        "#### Hint"
      ]
    },
    {
      "cell_type": "markdown",
      "metadata": {
        "id": "cuOgquAlFDin"
      },
      "source": [
        "We already made a plot above.\n",
        "We need to run a timecourse to get our data for the plot and then use ggplot for plotting.\n",
        "This time, we also need colors; so take a look at the `color` argument of the ggplot `aes()` function, where we specified `x` and `y`."
      ]
    },
    {
      "cell_type": "markdown",
      "metadata": {
        "id": "IVBUhZz_FJn9",
        "jp-MarkdownHeadingCollapsed": true,
        "tags": []
      },
      "source": [
        "#### Solution"
      ]
    },
    {
      "cell_type": "markdown",
      "metadata": {
        "id": "r3jLe5KRFLPL"
      },
      "source": [
        "First, we will run a timecourse.\n",
        "We set the duration of the timecourse to 1000 and the delta t low, so we get a smooth output."
      ]
    },
    {
      "cell_type": "code",
      "execution_count": null,
      "metadata": {
        "id": "KGvc-pfKFTTe"
      },
      "outputs": [],
      "source": [
        "timecourse <- runTimeCourse(duration = 1000, dt = 0.1)"
      ]
    },
    {
      "cell_type": "markdown",
      "metadata": {
        "id": "DAuAK4PCFYIq"
      },
      "source": [
        "If you take a look at the `timecourse` variable by typing the variable in your console we can see that it is a list of a lot of different points.\n",
        "We are only interested in the `result` part.\n",
        "You can subset lists in **R** with the `$` operator."
      ]
    },
    {
      "cell_type": "code",
      "execution_count": null,
      "metadata": {
        "id": "QWOCrJHRFeB6"
      },
      "outputs": [],
      "source": [
        "timecourse <- timecourse$result_number"
      ]
    },
    {
      "cell_type": "markdown",
      "metadata": {
        "id": "45IjXzqmFj4e"
      },
      "source": [
        "This is now a table of our species, but ggplot needs all values to be in one column and any differentiation between them (in our case the species and time) in another column.\n",
        "This is also called the *long* format of tables.\n",
        "We can use the `pivot_longer()` command of the **tidyr** package to easily reshape the data.\n",
        "Time is already in a separate column, so we do not need to do anything with it.\n",
        "We can work with all columns except time by specifying `-Time`.\n",
        "We use the `names_to` argument to specify how we would like to call the column where the names for the old columns should go; the `values_to` argument does the same but for values."
      ]
    },
    {
      "cell_type": "code",
      "execution_count": null,
      "metadata": {
        "id": "CC7YTEF6FnX9"
      },
      "outputs": [],
      "source": [
        "timecourse_long <- pivot_longer(data = timecourse, -Time, names_to = \"Species\", values_to = \"Count\")"
      ]
    },
    {
      "cell_type": "markdown",
      "metadata": {
        "id": "AUzZ_JyQFpcL"
      },
      "source": [
        "To get a better understanding what the `pivot_longer()` function does, you can take a look at the two tables: `timecourse` and `timecourse_long`.\n",
        "\n",
        "Now we have everything we need for ggplot.\n",
        "We call the `ggplot()` function.\n",
        "As data, we need our prepared timecourse, `timecourse_long`.\n",
        "On the x-axis we want the time and on the y-axis we want the values (concentrations).\n",
        "To differentiate between our species, we also need color. "
      ]
    },
    {
      "cell_type": "code",
      "execution_count": null,
      "metadata": {
        "id": "G7tOiTQVFwVx"
      },
      "outputs": [],
      "source": [
        "ggplot(data = timecourse_long, aes(x = Time, y = Count, color = Species)) +\n",
        "  geom_line()"
      ]
    },
    {
      "cell_type": "markdown",
      "metadata": {
        "id": "VUhPmHGbSpYQ"
      },
      "source": [
        "#### Conclusion"
      ]
    },
    {
      "cell_type": "markdown",
      "metadata": {
        "id": "v43IdDhpGFVp"
      },
      "source": [
        "And we just made our own, oscillating model!\n",
        "But why and how does our model oscillate?\n",
        "\n",
        "In a helpful review from Novák and Tyson [^5] we find the following requirements for oscillators:\n",
        "\n",
        "1. Negative feedback to carry a reaction network back to the 'starting point' of oscillation\n",
        "2. Negative feedback signal sufficiently delayed in time so we don't get a steady state\n",
        "3. Kinetic rate laws need to be nonlinear\n",
        "4. Reactions that produce and consume interacting chemical species must occur on appropriate time scales.\n",
        "\n",
        "We can try and explain how our model oscillates by going through those point by point.\n",
        "\n",
        "1. We have negative feedback - the more mice we create the more mice will be eaten by cats.\n",
        "2. The production of more cats following the production of lots of mice takes some time. This is why we do not get a steady state.  \n",
        "3. The cats and mice interact in the 4th reaction (Cats + Mice -> 2 * Cats) which creates a non-linearity in the system.\n",
        "4. They are in appropriate time scales.\n",
        "\n",
        "If our production of new cats would take years, whereas the population of mice would take days the populations wouldn't sufficiently affect each other."
      ]
    },
    {
      "cell_type": "markdown",
      "metadata": {
        "id": "TfrfQ77mGJXE"
      },
      "source": [
        "## Phase space diagram"
      ]
    },
    {
      "cell_type": "markdown",
      "metadata": {
        "id": "dlsIBmttGbAO"
      },
      "source": [
        "We can now take a look at our model in a different way.\n",
        "What do you think will happen, if we plot the two species of our model - one on the x-axis and one on the y-axis:"
      ]
    },
    {
      "cell_type": "code",
      "execution_count": null,
      "metadata": {
        "id": "RPUWcz5FGlrn"
      },
      "outputs": [],
      "source": [
        "timecourse <- runTimeCourse(duration = 1000, dt = 0.1)$result_number\n",
        "\n",
        "ggplot(data = timecourse, aes(x = Mice, y = Cats, color = Time)) +\n",
        "  geom_path()"
      ]
    },
    {
      "cell_type": "markdown",
      "metadata": {
        "id": "H_GtEQ71wu30"
      },
      "source": [
        "*Sidenote: Notice how we use `geom_path()`\n",
        "instead of `geom_line()` like before.\n",
        "You can try and see what happens if you switch the two. Can you explain why?*"
      ]
    },
    {
      "cell_type": "markdown",
      "metadata": {
        "id": "_xnzDChOGo3I"
      },
      "source": [
        "The oscillation is *periodic*, meaning that it  will always do the same thing over a specific period of time.\n",
        "It is like a steady state, but the steady state itself oscillates.\n",
        "\n",
        "Some oscillations are also *harmonic* and return to this steady state, even when disturbed.\n",
        "You can take a look at how the model and the limit cycle changes with different starting conditions of mice and cats:"
      ]
    },
    {
      "cell_type": "code",
      "execution_count": null,
      "metadata": {
        "cellView": "form",
        "id": "EV4Hiv8q6vy2"
      },
      "outputs": [],
      "source": [
        "#@title Phase space exploration\n",
        "Cats <- 150 #@param {type:\"slider\", min:1, max:1000, step:1}\n",
        "Mice <- 300 #@param {type:\"slider\", min:1, max:1000, step:1}\n",
        "prior_model <- getCurrentModel()\n",
        "\n",
        "invisible(newModel())\n",
        "invisible(newReaction(\"Cats -> \"))\n",
        "invisible(newReaction(\"Mice -> \"))\n",
        "invisible(newReaction(\"Mice -> 2 * Mice\"))\n",
        "invisible(newReaction(\"Cats + Mice -> 2 * Cats\"))\n",
        "setCompartments(\"compartment\", initial_size = 3e-21)\n",
        "setSpecies(species(), initial_number = c(Cats, Mice))\n",
        "setParameters(parameter(), value = c(0.05, 0.05, 0.1, 0.1))\n",
        "\n",
        "timecourse <- runTimeCourse (duration = 1000, dt = 0.1)$result_number\n",
        "timecourse_long <- pivot_longer(data = timecourse, -Time, names_to = \"Species\", values_to = \"Count\")\n",
        "                                \n",
        "ggplot(data = timecourse_long, aes(x = Time, y = Count, color = Species)) +\n",
        "   geom_line()\n",
        "ggplot(data = timecourse, aes(x = Mice, y = Cats, color = Time)) +\n",
        "  geom_path()\n",
        "\n",
        "unloadModel()\n",
        "setCurrentModel(prior_model)"
      ]
    },
    {
      "cell_type": "markdown",
      "metadata": {
        "id": "K5a8fO706uht"
      },
      "source": [
        "We can set up a parameter sampling of different starting conditions and plot these:"
      ]
    },
    {
      "cell_type": "markdown",
      "metadata": {
        "id": "mVT2hYDot6pC"
      },
      "source": [
        "We want 10 different conditions for starting values of our species.\n",
        "We want them normally distributed around the current value for each species with a standard deviation of 15 % of the current value."
      ]
    },
    {
      "cell_type": "code",
      "execution_count": null,
      "metadata": {
        "id": "NseIKLTBt5OZ"
      },
      "outputs": [],
      "source": [
        "# Your code here\n",
        "# Normally distributed starting values\n",
        "\n",
        "sample_values_df <- tibble(Cats = c(), Mice = c())"
      ]
    },
    {
      "cell_type": "markdown",
      "metadata": {
        "id": "qBEzfn6KuLfh"
      },
      "source": [
        "Afterwards, we want to run a timecourse for each of the ten combinations in `sample_values_df`."
      ]
    },
    {
      "cell_type": "code",
      "execution_count": null,
      "metadata": {
        "id": "oqMbfsw2uSkF"
      },
      "outputs": [],
      "source": [
        "# Your code here\n",
        "# Run 10 time courses"
      ]
    },
    {
      "cell_type": "markdown",
      "metadata": {
        "id": "gSLfQOMXuePH"
      },
      "source": [
        "And lastly, we want to plot everything."
      ]
    },
    {
      "cell_type": "code",
      "execution_count": null,
      "metadata": {
        "id": "ElTfDGw3SpYS"
      },
      "outputs": [],
      "source": [
        "# Your code here\n",
        "# Plot the phase space diagram"
      ]
    },
    {
      "cell_type": "markdown",
      "metadata": {
        "id": "dWpuNWLjujUm",
        "jp-MarkdownHeadingCollapsed": true,
        "tags": []
      },
      "source": [
        "#### Hint"
      ]
    },
    {
      "cell_type": "markdown",
      "metadata": {
        "id": "Sd3TRIs4un8J"
      },
      "source": [
        "You can generate random numbers that are normally distributed using `rnorm`.\n",
        "\n",
        "You can use a for-loop to run your timecourses.\n",
        "Make sure you set your species to the new starting condition before each timecourse.\n",
        "\n",
        "The plotting part should look similar to above."
      ]
    },
    {
      "cell_type": "markdown",
      "metadata": {
        "id": "ZnK1AWhMs0Gw",
        "jp-MarkdownHeadingCollapsed": true,
        "tags": []
      },
      "source": [
        "#### Solution"
      ]
    },
    {
      "cell_type": "markdown",
      "metadata": {
        "id": "LHml-yjAvEgg"
      },
      "source": [
        "First, we want to make 10 starting conditions.\n",
        "These should be normally distributed with a mean of the current initial concentration and a standard deviation of 15 % of the current initial concentration.\n",
        "\n",
        "We will first generate a vector of our initial concentrations, called `initial_concentrations` and a vector of our standard deviation `sd` by multiplying `initial_concentrations` with 0.15."
      ]
    },
    {
      "cell_type": "code",
      "execution_count": null,
      "metadata": {
        "id": "-_v2dcYPvOci"
      },
      "outputs": [],
      "source": [
        "initial_numbers <- getSpecies(c(\"Cats\", \"Mice\"))$initial_number\n",
        "sd <- initial_numbers * 0.15"
      ]
    },
    {
      "cell_type": "markdown",
      "metadata": {
        "id": "0ESm2wt-vRMp"
      },
      "source": [
        "We can now create our `sample_values_df` tibble by using the `rnorm` function.\n",
        "`rnorm()` creates `n` random numbers, normally distributed around a `mean` and with a standard deviation `sd`.\n",
        "We will now fill our tibble with our two species:"
      ]
    },
    {
      "cell_type": "code",
      "execution_count": null,
      "metadata": {
        "id": "GLaHA-nPvZc3"
      },
      "outputs": [],
      "source": [
        "sample_values_df <- tibble(Cats = round(rnorm(10, mean = initial_numbers[1], sd = sd[1])),\n",
        "                           Mice = round(rnorm(10, mean = initial_numbers[2], sd = sd[2])))\n",
        "sample_values_df"
      ]
    },
    {
      "cell_type": "markdown",
      "metadata": {
        "id": "zw6FkBExveEf"
      },
      "source": [
        "We will run 10 time courses with different initial numbers for our species in a for-loop.\n",
        "\n",
        "The for loop runs for each row of the `sample_values_df` dataframe, specifying an initial condition.\n",
        "Each time, the new initial condition is applied, the timecourse is run and appended to a list collecting all timecourses.\n",
        "The results are merged into a single dataframe `tc_df` with the column `sample` specifying the iteration."
      ]
    },
    {
      "cell_type": "code",
      "execution_count": null,
      "metadata": {
        "id": "5MkZgZqmvrYj"
      },
      "outputs": [],
      "source": [
        "tc_list <- list()\n",
        "\n",
        "# The for loop. sample is our loop variable\n",
        "for (sample in 1:nrow(sample_values_df)) {\n",
        "  # set the (random) initial number of the species\n",
        "  setSpecies(key = c(\"Cats\", \"Mice\"), initial_number = unlist(sample_values_df[sample, ]))\n",
        "  # run time course\n",
        "  tc_new <- runTimeCourse(duration = 1000, dt = 0.1)$result_number\n",
        "  # append the new time course to tc_list\n",
        "  tc_list[[sample]] <- tc_new\n",
        "}\n",
        "\n",
        "tc_df <-\n",
        "  tc_list %>%\n",
        "  # merge all outputs into a single data frame while distinguishing runs with the id (column sample)\n",
        "  bind_rows(.id = \"sample\") %>%\n",
        "  # convert sample to be a counter instead of the string representation\n",
        "  mutate(sample = as.integer(sample))"
      ]
    },
    {
      "cell_type": "markdown",
      "metadata": {
        "id": "JwF21NPzwEse"
      },
      "source": [
        "If you feel unsure what happened, try doing things step by step without a for loop. And take a look at our objects tc_list and tc_dt to see what they look like."
      ]
    },
    {
      "cell_type": "code",
      "execution_count": null,
      "metadata": {
        "id": "uumMYRrmwdrK"
      },
      "outputs": [],
      "source": [
        "# Try it out yourself!\n",
        "# tc_list\n",
        "# tc_df"
      ]
    },
    {
      "cell_type": "markdown",
      "metadata": {
        "id": "d6nNoFsbv1NS"
      },
      "source": [
        "The plotting works the similarly to before, but instead of `Time`, we want to color by our run counter (`sample`)."
      ]
    },
    {
      "cell_type": "code",
      "execution_count": null,
      "metadata": {
        "id": "-lHNOw2Xwotl"
      },
      "outputs": [],
      "source": [
        "ggplot(data = tc_df, aes(x = Mice, y = Cats, color = sample, group = sample)) +\n",
        "  geom_path()"
      ]
    },
    {
      "cell_type": "markdown",
      "metadata": {
        "id": "J4mLbCBKSpYU"
      },
      "source": [
        "### Trying this with with stochastic model"
      ]
    },
    {
      "cell_type": "markdown",
      "metadata": {
        "id": "KQd3igWpSpYU"
      },
      "source": [
        "In reality, mice and cats are born and interact at discrete points in time. These single events, in principle, happen at random points in time, only the distribution of waiting times is defined by the system dynamics. In order to capture these (intrinsic) fluctuations in population numbers, normally a stochastic modelling framework is used [^6]. This can be done easily in COPASI and CoRC.\n",
        "\n",
        "To start working with stochastic simulation, we need to implement a safeguard, which triggers in the event that the cats die out, causing the mice to reproduce indefinitely.\n",
        "In the deterministic model this is not a concern as the cat population can easily recover even from a total count of as low as e.g. 0.1.\n",
        "We use the COPASI event feature, which can finalize simulations by pushing the simulation time past the maximum duration."
      ]
    },
    {
      "cell_type": "code",
      "execution_count": null,
      "metadata": {
        "id": "D0b6QEstSpYU"
      },
      "outputs": [],
      "source": [
        "newEvent(name = \"tc_abort\", trigger_expression = \"{Mice.ParticleNumber} > 8000\", assignment_target = \"Time\", assignment_expression = 9999)"
      ]
    },
    {
      "cell_type": "markdown",
      "metadata": {
        "id": "C8oIZDQASpYU"
      },
      "source": [
        "With this safeguard in place, we can switch to stochastic simulation.\n",
        "To illustrate the safeguard functionality, we use a particular random seed here for which we have observed that cats will die out in some of the samplings."
      ]
    },
    {
      "cell_type": "code",
      "execution_count": null,
      "metadata": {
        "id": "Dx3JXXBkSpYU"
      },
      "outputs": [],
      "source": [
        "setTimeCourseSettings(method = list(method = \"directMethod\", use_random_seed = TRUE, random_seed = 14))\n",
        "\n",
        "tc_list <- list()\n",
        "\n",
        "# The for loop. sample is our loop variable\n",
        "for (sample in 1:nrow(sample_values_df)) {\n",
        "  # set the (random) initial concentration of the species\n",
        "  setSpecies(key = c(\"Cats\", \"Mice\"), initial_number = unlist(sample_values_df[sample, ]))\n",
        "  # run time course\n",
        "  tc_new <- runTimeCourse(duration = 1000, dt = 0.1)$result_number\n",
        "  # append the new time course to tc_list\n",
        "  tc_list[[sample]] <- tc_new\n",
        "}\n",
        "\n",
        "tc_df <-\n",
        "  tc_list %>%\n",
        "  # merge all outputs into a single data frame while distinguishing runs with the id (column sample)\n",
        "  bind_rows(.id = \"sample\") %>%\n",
        "  # convert scan to be a counter instead of the string representation\n",
        "  mutate(sample = as.integer(sample))\n",
        "\n",
        "ggplot(data = tc_df, aes(x = Mice, y = Cats, color = sample, group = sample)) +\n",
        "  geom_path()"
      ]
    },
    {
      "cell_type": "markdown",
      "metadata": {
        "id": "k3jCGoYsSpYU"
      },
      "source": [
        "The stochastic simulation reveals that one can observe many more different model states than the deterministic simulation would suggest.\n",
        "While the oscillation behaviour is generally conserved, the random fluctuations can result in considerable perturbations."
      ]
    },
    {
      "cell_type": "markdown",
      "source": [
        "## 3D-Oscillations"
      ],
      "metadata": {
        "id": "4Q6T0AK4aBWL"
      }
    },
    {
      "cell_type": "markdown",
      "source": [
        "Visualising 3D oscillations with plotly is currently broken in Colab.\n",
        "You can find the section in the [Oscillations document on our project website](https://jpahle.github.io/DynamiCoRC/oscillations.html)"
      ],
      "metadata": {
        "id": "UuyzzNgJaLfa"
      }
    },
    {
      "cell_type": "markdown",
      "metadata": {
        "id": "1WZq_T-75LK3"
      },
      "source": [
        "## References\n",
        "[^1]: Kent, Edward, Stefan Hoops, and Pedro Mendes. \"Condor-COPASI: high-throughput computing for biochemical networks.\" BMC systems biology 6.1 (201|2): 91.\n",
        "\n",
        "[^2]: Tyson, John J., et al. \"A simple model of circadian rhythms based on dimerization and proteolysis of PER and TIM.\" Biophysical journal 77.5 (1999): 2411-2417.\n",
        "\n",
        "[^3]: A. J. Lotka. \"Analytical note on certain rhythmic relations in organic systems\", PNAS 6 (7) (1920) 410–415. doi:doi.org/10.1073/pnas.\n",
        "6.7.410.\n",
        "\n",
        "[^4]: V. Volterra. \"Variazioni e fluttuazioni del numero d’individui in specie animali conviventi, Mem. Acad. Lincei Roma.\" 2 (1926) 31–113.\n",
        "\n",
        "[^5]: Novák, Béla, and John J. Tyson. \"Design principles of biochemical oscillators.\" Nature reviews Molecular cell biology 9.12 (2008): 981-991.\n",
        "\n",
        "[^6]: J. Pahle. \"Biochemical simulations: stochastic, approximate stochastic and hybrid approaches.\" (2009): Briefings in Bioinformatics 10(1):53-64, doi:10.1093/bib/bbn050"
      ]
    }
  ],
  "metadata": {
    "colab": {
      "collapsed_sections": [
        "qu5trVjx8J2O",
        "5G0OP0qM8VA9",
        "Ho2UZ-rL5z0b",
        "xZmIGOrY66pm",
        "w8hWw7NJ9CTy",
        "eZnuzDSS9IYh",
        "31Ze0aLS-FMm",
        "dQm3GKGt-5fc",
        "0Isfpb5I_u3l",
        "9v0eJGs9_0Ug",
        "2pzJIzhYBHrY",
        "JBX9o_MpBO9L",
        "8FF8p9RnBs3L",
        "LJ9a0hYQCDEZ",
        "O1eMIGiAET3Y",
        "OlRhBpyCEaDT",
        "PWHfR0WsFCQB",
        "IVBUhZz_FJn9",
        "dWpuNWLjujUm",
        "ZnK1AWhMs0Gw"
      ],
      "name": "oscillations.ipynb",
      "provenance": []
    },
    "kernelspec": {
      "display_name": "R",
      "language": "R",
      "name": "ir"
    },
    "language_info": {
      "codemirror_mode": "r",
      "file_extension": ".r",
      "mimetype": "text/x-r-source",
      "name": "R",
      "pygments_lexer": "r",
      "version": "4.1.0"
    }
  },
  "nbformat": 4,
  "nbformat_minor": 0
}